{
 "cells": [
  {
   "cell_type": "code",
   "execution_count": null,
   "metadata": {},
   "outputs": [],
   "source": [
    "from sqlalchemy import create_engine\n",
    "import pandas as pd\n",
    "import numpy as np"
   ]
  },
  {
   "cell_type": "markdown",
   "metadata": {},
   "source": [
    "# Control Sub-Tree Analysis"
   ]
  },
  {
   "cell_type": "markdown",
   "metadata": {},
   "source": [
    "## 0. Get necessary data from Database"
   ]
  },
  {
   "cell_type": "code",
   "execution_count": null,
   "metadata": {},
   "outputs": [],
   "source": [
    "db_connection_str = 'mysql+pymysql://root:db@localhost/GDE'\n",
    "db_connection = create_engine(db_connection_str)"
   ]
  },
  {
   "cell_type": "code",
   "execution_count": null,
   "metadata": {},
   "outputs": [],
   "source": [
    "control_subtree_subjects = ['EM306', 'EM404', 'ES601', 'EM607', 'ES710', 'ES626', 'ES827', 'ES728', 'ES828']\n",
    "control_subtree_regex = [subject_codename + '.*' for subject_codename in control_subtree_subjects]\n",
    "\n",
    "control_subtree_df = pd.read_sql(\"SELECT * FROM Subject WHERE SubjectName REGEXP '\"+\"|\".join(control_subtree_regex) + \"'\", db_connection)\n",
    "control_subtree_df"
   ]
  },
  {
   "cell_type": "code",
   "execution_count": null,
   "metadata": {},
   "outputs": [],
   "source": [
    "target_subject_ids = ','.join(str(subject_db_id) for subject_db_id in control_subtree_df['ID'].to_list())\n",
    "subjects_scores = pd.read_sql(\"SELECT ProfessorID, SubjectID, Coerente, ExplicaBem, Facilidade FROM ProfessorRankings WHERE SubjectID IN ({ids})\".format(ids = target_subject_ids), db_connection)\n",
    "subjects_scores"
   ]
  },
  {
   "cell_type": "markdown",
   "metadata": {},
   "source": [
    "## 1. Determining Criteria Weights - Fuzzy SWARA\n",
    "\n",
    "![](../docs/imgs/Fuzzy-SWARA.png)"
   ]
  },
  {
   "cell_type": "code",
   "execution_count": 98,
   "metadata": {},
   "outputs": [
    {
     "data": {
      "text/html": [
       "<div>\n",
       "<style scoped>\n",
       "    .dataframe tbody tr th:only-of-type {\n",
       "        vertical-align: middle;\n",
       "    }\n",
       "\n",
       "    .dataframe tbody tr th {\n",
       "        vertical-align: top;\n",
       "    }\n",
       "\n",
       "    .dataframe thead th {\n",
       "        text-align: right;\n",
       "    }\n",
       "</style>\n",
       "<table border=\"1\" class=\"dataframe\">\n",
       "  <thead>\n",
       "    <tr style=\"text-align: right;\">\n",
       "      <th></th>\n",
       "      <th>l</th>\n",
       "      <th>m</th>\n",
       "      <th>u</th>\n",
       "    </tr>\n",
       "    <tr>\n",
       "      <th>Criteria</th>\n",
       "      <th></th>\n",
       "      <th></th>\n",
       "      <th></th>\n",
       "    </tr>\n",
       "  </thead>\n",
       "  <tbody>\n",
       "    <tr>\n",
       "      <th>Explanation Score</th>\n",
       "      <td>0.000000</td>\n",
       "      <td>0.000000</td>\n",
       "      <td>0.000000</td>\n",
       "    </tr>\n",
       "    <tr>\n",
       "      <th>Coherence Score</th>\n",
       "      <td>0.222222</td>\n",
       "      <td>0.250000</td>\n",
       "      <td>0.285714</td>\n",
       "    </tr>\n",
       "    <tr>\n",
       "      <th>Easiness Score</th>\n",
       "      <td>0.285714</td>\n",
       "      <td>0.333333</td>\n",
       "      <td>0.400000</td>\n",
       "    </tr>\n",
       "  </tbody>\n",
       "</table>\n",
       "</div>"
      ],
      "text/plain": [
       "                          l         m         u\n",
       "Criteria                                       \n",
       "Explanation Score  0.000000  0.000000  0.000000\n",
       "Coherence Score    0.222222  0.250000  0.285714\n",
       "Easiness Score     0.285714  0.333333  0.400000"
      ]
     },
     "execution_count": 98,
     "metadata": {},
     "output_type": "execute_result"
    }
   ],
   "source": [
    "decision_makers_aggregated_opinions = {'Explanation Score' : np.array([0,0,0]), 'Coherence Score' : np.array([2/9, 1/4, 2/7]), 'Easiness Score' : np.array([2/7, 1/3, 2/5])}\n",
    "decision_makers_aggregated_optinions_df = pd.DataFrame(decision_makers_aggregated_opinions).transpose()\n",
    "decision_makers_aggregated_optinions_df = decision_makers_aggregated_optinions_df.rename_axis('Criteria').rename(columns={0:'l',1: 'm',2: 'u'})\n",
    "decision_makers_aggregated_optinions_df"
   ]
  },
  {
   "cell_type": "markdown",
   "metadata": {},
   "source": [
    "## 2. Subject Ranking - Fuzzy Topsis\n",
    "\n",
    "The first analysis we will do is, through the use of fuzzy numbers to represent the 5-star scores, aggregate all the professors' scores for a subject and compare to others related subjects (in our case subjects that are part of the control systems subtree). \n",
    "\n",
    "This analysis might give us a deeper insight into which subject students might find the most challenging (be it due to the subject itself or the professors teaching methods), and identify benchmark subjects to help improve other subjects/professor's technics."
   ]
  },
  {
   "cell_type": "markdown",
   "metadata": {},
   "source": [
    "### 2.1 Cleaning Data\n",
    "\n",
    "Some professors history in a specific subject may not have the minimum number of entries for scores, so they appear as NaN on the scores dataframe and need to be removed."
   ]
  },
  {
   "cell_type": "code",
   "execution_count": null,
   "metadata": {},
   "outputs": [],
   "source": [
    "subjects_scores = subjects_scores.dropna()\n",
    "subjects_scores"
   ]
  },
  {
   "cell_type": "markdown",
   "metadata": {},
   "source": [
    "### 2.2 Expanding 5-Star Review to Triangular Fuzzy Numbers\n",
    "\n",
    "![](../docs/imgs/Linguistic-five-Likert-scale-using-triangular-fuzzy-number.png)\n",
    "\n",
    "[Reference](https://www.researchgate.net/figure/Linguistic-five-Likert-scale-using-triangular-fuzzy-number_tbl1_365957303)"
   ]
  },
  {
   "cell_type": "code",
   "execution_count": null,
   "metadata": {},
   "outputs": [],
   "source": [
    "crisp_to_fuzzy = {1.0 : np.array([1, 1, 2]), 2.0: np.array([1, 2, 3]), 3.0: np.array([2, 3, 4]), 4.0:  np.array([3, 4, 5]), 5.0: np.array([4, 5, 5])}"
   ]
  },
  {
   "cell_type": "code",
   "execution_count": null,
   "metadata": {},
   "outputs": [],
   "source": [
    "fuzzy_subjects_scores = subjects_scores.copy()\n",
    "\n",
    "for col in ['Coerente', 'ExplicaBem', 'Facilidade']:\n",
    "    fuzzy_subjects_scores[col] = subjects_scores[col].apply(lambda val: crisp_to_fuzzy[val])"
   ]
  },
  {
   "cell_type": "code",
   "execution_count": null,
   "metadata": {},
   "outputs": [],
   "source": [
    "fuzzy_subjects_scores"
   ]
  },
  {
   "cell_type": "markdown",
   "metadata": {},
   "source": [
    "### 2.3 Aggregate All the scores for a subject"
   ]
  },
  {
   "cell_type": "code",
   "execution_count": 51,
   "metadata": {},
   "outputs": [],
   "source": [
    "fuzzy_control_subtree_df = control_subtree_df.copy()\n",
    "easy_values = []\n",
    "coherent_values = []\n",
    "explanation_values = []\n",
    "\n",
    "for subject_id in fuzzy_control_subtree_df['ID']:\n",
    "    subject_fuzzy_scores = fuzzy_subjects_scores.loc[fuzzy_subjects_scores['SubjectID'] == subject_id]\n",
    "\n",
    "    n_scores = len(subject_fuzzy_scores)\n",
    "    easy_values.append((1/n_scores) * np.sum(np.array(subject_fuzzy_scores['Facilidade']), axis=0))\n",
    "    coherent_values.append((1/n_scores) * np.sum(np.array(subject_fuzzy_scores['Coerente']), axis=0))\n",
    "    explanation_values.append((1/n_scores) * np.sum(np.array(subject_fuzzy_scores['ExplicaBem']), axis=0))\n"
   ]
  },
  {
   "cell_type": "code",
   "execution_count": 55,
   "metadata": {},
   "outputs": [],
   "source": [
    "fuzzy_control_subtree_df['Easiness Score'] = easy_values\n",
    "fuzzy_control_subtree_df['Coherence Score'] = coherent_values\n",
    "fuzzy_control_subtree_df['Explanation Score'] = explanation_values"
   ]
  },
  {
   "cell_type": "code",
   "execution_count": 56,
   "metadata": {},
   "outputs": [
    {
     "data": {
      "text/html": [
       "<div>\n",
       "<style scoped>\n",
       "    .dataframe tbody tr th:only-of-type {\n",
       "        vertical-align: middle;\n",
       "    }\n",
       "\n",
       "    .dataframe tbody tr th {\n",
       "        vertical-align: top;\n",
       "    }\n",
       "\n",
       "    .dataframe thead th {\n",
       "        text-align: right;\n",
       "    }\n",
       "</style>\n",
       "<table border=\"1\" class=\"dataframe\">\n",
       "  <thead>\n",
       "    <tr style=\"text-align: right;\">\n",
       "      <th></th>\n",
       "      <th>ID</th>\n",
       "      <th>SubjectName</th>\n",
       "      <th>Easiness Score</th>\n",
       "      <th>Coherence Score</th>\n",
       "      <th>Explanation Score</th>\n",
       "    </tr>\n",
       "  </thead>\n",
       "  <tbody>\n",
       "    <tr>\n",
       "      <th>0</th>\n",
       "      <td>2093</td>\n",
       "      <td>EM306 - Estática</td>\n",
       "      <td>[1.526315789473684, 2.4210526315789473, 3.4210...</td>\n",
       "      <td>[2.2105263157894735, 3.2105263157894735, 4.210...</td>\n",
       "      <td>[2.0, 3.0, 4.0]</td>\n",
       "    </tr>\n",
       "    <tr>\n",
       "      <th>1</th>\n",
       "      <td>2099</td>\n",
       "      <td>EM404 - Dinâmica</td>\n",
       "      <td>[1.0909090909090908, 2.090909090909091, 3.0909...</td>\n",
       "      <td>[2.1818181818181817, 3.181818181818182, 4.1818...</td>\n",
       "      <td>[1.8181818181818183, 2.7272727272727275, 3.727...</td>\n",
       "    </tr>\n",
       "    <tr>\n",
       "      <th>2</th>\n",
       "      <td>2120</td>\n",
       "      <td>EM607 - Vibrações de Sistemas Mecânicos</td>\n",
       "      <td>[1.5, 2.375, 3.375]</td>\n",
       "      <td>[2.375, 3.375, 4.375]</td>\n",
       "      <td>[1.875, 2.875, 3.875]</td>\n",
       "    </tr>\n",
       "    <tr>\n",
       "      <th>3</th>\n",
       "      <td>2593</td>\n",
       "      <td>ES601 - Análise Linear de Sistemas</td>\n",
       "      <td>[1.3333333333333333, 2.0, 3.0]</td>\n",
       "      <td>[1.6666666666666665, 2.6666666666666665, 3.666...</td>\n",
       "      <td>[1.0, 2.0, 3.0]</td>\n",
       "    </tr>\n",
       "    <tr>\n",
       "      <th>4</th>\n",
       "      <td>2596</td>\n",
       "      <td>ES626 - Modelagem de Dispositivos Eletromecânicos</td>\n",
       "      <td>[1.75, 2.5, 3.5]</td>\n",
       "      <td>[1.75, 2.5, 3.5]</td>\n",
       "      <td>[1.5, 2.0, 3.0]</td>\n",
       "    </tr>\n",
       "    <tr>\n",
       "      <th>5</th>\n",
       "      <td>2605</td>\n",
       "      <td>ES710 - Controle de Sistemas Mecânicos</td>\n",
       "      <td>[1.5714285714285714, 2.4285714285714284, 3.428...</td>\n",
       "      <td>[2.4285714285714284, 3.4285714285714284, 4.428...</td>\n",
       "      <td>[2.2857142857142856, 3.2857142857142856, 4.285...</td>\n",
       "    </tr>\n",
       "    <tr>\n",
       "      <th>6</th>\n",
       "      <td>2612</td>\n",
       "      <td>ES728 - Controle Avançado de Sistemas</td>\n",
       "      <td>[1.25, 1.75, 2.75]</td>\n",
       "      <td>[1.25, 2.25, 3.25]</td>\n",
       "      <td>[1.5, 2.5, 3.5]</td>\n",
       "    </tr>\n",
       "    <tr>\n",
       "      <th>7</th>\n",
       "      <td>2621</td>\n",
       "      <td>ES827 - Robótica Industrial</td>\n",
       "      <td>[2.0, 3.0, 4.0]</td>\n",
       "      <td>[2.0, 3.0, 4.0]</td>\n",
       "      <td>[1.25, 1.75, 2.75]</td>\n",
       "    </tr>\n",
       "    <tr>\n",
       "      <th>8</th>\n",
       "      <td>2622</td>\n",
       "      <td>ES828 - Laboratório de Controle de Sistemas</td>\n",
       "      <td>[1.6666666666666665, 2.6666666666666665, 3.666...</td>\n",
       "      <td>[2.333333333333333, 3.333333333333333, 4.33333...</td>\n",
       "      <td>[2.333333333333333, 3.333333333333333, 4.33333...</td>\n",
       "    </tr>\n",
       "  </tbody>\n",
       "</table>\n",
       "</div>"
      ],
      "text/plain": [
       "     ID                                        SubjectName  \\\n",
       "0  2093                                   EM306 - Estática   \n",
       "1  2099                                   EM404 - Dinâmica   \n",
       "2  2120            EM607 - Vibrações de Sistemas Mecânicos   \n",
       "3  2593                 ES601 - Análise Linear de Sistemas   \n",
       "4  2596  ES626 - Modelagem de Dispositivos Eletromecânicos   \n",
       "5  2605             ES710 - Controle de Sistemas Mecânicos   \n",
       "6  2612              ES728 - Controle Avançado de Sistemas   \n",
       "7  2621                        ES827 - Robótica Industrial   \n",
       "8  2622        ES828 - Laboratório de Controle de Sistemas   \n",
       "\n",
       "                                      Easiness Score  \\\n",
       "0  [1.526315789473684, 2.4210526315789473, 3.4210...   \n",
       "1  [1.0909090909090908, 2.090909090909091, 3.0909...   \n",
       "2                                [1.5, 2.375, 3.375]   \n",
       "3                     [1.3333333333333333, 2.0, 3.0]   \n",
       "4                                   [1.75, 2.5, 3.5]   \n",
       "5  [1.5714285714285714, 2.4285714285714284, 3.428...   \n",
       "6                                 [1.25, 1.75, 2.75]   \n",
       "7                                    [2.0, 3.0, 4.0]   \n",
       "8  [1.6666666666666665, 2.6666666666666665, 3.666...   \n",
       "\n",
       "                                     Coherence Score  \\\n",
       "0  [2.2105263157894735, 3.2105263157894735, 4.210...   \n",
       "1  [2.1818181818181817, 3.181818181818182, 4.1818...   \n",
       "2                              [2.375, 3.375, 4.375]   \n",
       "3  [1.6666666666666665, 2.6666666666666665, 3.666...   \n",
       "4                                   [1.75, 2.5, 3.5]   \n",
       "5  [2.4285714285714284, 3.4285714285714284, 4.428...   \n",
       "6                                 [1.25, 2.25, 3.25]   \n",
       "7                                    [2.0, 3.0, 4.0]   \n",
       "8  [2.333333333333333, 3.333333333333333, 4.33333...   \n",
       "\n",
       "                                   Explanation Score  \n",
       "0                                    [2.0, 3.0, 4.0]  \n",
       "1  [1.8181818181818183, 2.7272727272727275, 3.727...  \n",
       "2                              [1.875, 2.875, 3.875]  \n",
       "3                                    [1.0, 2.0, 3.0]  \n",
       "4                                    [1.5, 2.0, 3.0]  \n",
       "5  [2.2857142857142856, 3.2857142857142856, 4.285...  \n",
       "6                                    [1.5, 2.5, 3.5]  \n",
       "7                                 [1.25, 1.75, 2.75]  \n",
       "8  [2.333333333333333, 3.333333333333333, 4.33333...  "
      ]
     },
     "execution_count": 56,
     "metadata": {},
     "output_type": "execute_result"
    }
   ],
   "source": [
    "fuzzy_control_subtree_df"
   ]
  },
  {
   "cell_type": "markdown",
   "metadata": {},
   "source": [
    "### 2.4 Normalize Aggregate Judgement Matrix"
   ]
  },
  {
   "cell_type": "code",
   "execution_count": 75,
   "metadata": {},
   "outputs": [],
   "source": [
    "for criteria in ['Coherence Score', 'Easiness Score', 'Explanation Score']:\n",
    "    scores_matrix = np.stack(fuzzy_control_subtree_df[criteria])\n",
    "    u_max = np.max(scores_matrix, axis=0)[2]\n",
    "    fuzzy_control_subtree_df[criteria] = fuzzy_control_subtree_df[criteria] / u_max"
   ]
  },
  {
   "cell_type": "code",
   "execution_count": 76,
   "metadata": {},
   "outputs": [
    {
     "data": {
      "text/html": [
       "<div>\n",
       "<style scoped>\n",
       "    .dataframe tbody tr th:only-of-type {\n",
       "        vertical-align: middle;\n",
       "    }\n",
       "\n",
       "    .dataframe tbody tr th {\n",
       "        vertical-align: top;\n",
       "    }\n",
       "\n",
       "    .dataframe thead th {\n",
       "        text-align: right;\n",
       "    }\n",
       "</style>\n",
       "<table border=\"1\" class=\"dataframe\">\n",
       "  <thead>\n",
       "    <tr style=\"text-align: right;\">\n",
       "      <th></th>\n",
       "      <th>ID</th>\n",
       "      <th>SubjectName</th>\n",
       "      <th>Easiness Score</th>\n",
       "      <th>Coherence Score</th>\n",
       "      <th>Explanation Score</th>\n",
       "    </tr>\n",
       "  </thead>\n",
       "  <tbody>\n",
       "    <tr>\n",
       "      <th>0</th>\n",
       "      <td>2093</td>\n",
       "      <td>EM306 - Estática</td>\n",
       "      <td>[0.381578947368421, 0.6052631578947368, 0.8552...</td>\n",
       "      <td>[0.499151103565365, 0.7249575551782683, 0.9507...</td>\n",
       "      <td>[0.46153846153846156, 0.6923076923076924, 0.92...</td>\n",
       "    </tr>\n",
       "    <tr>\n",
       "      <th>1</th>\n",
       "      <td>2099</td>\n",
       "      <td>EM404 - Dinâmica</td>\n",
       "      <td>[0.2727272727272727, 0.5227272727272727, 0.772...</td>\n",
       "      <td>[0.49266862170087977, 0.7184750733137831, 0.94...</td>\n",
       "      <td>[0.41958041958041964, 0.6293706293706295, 0.86...</td>\n",
       "    </tr>\n",
       "    <tr>\n",
       "      <th>2</th>\n",
       "      <td>2120</td>\n",
       "      <td>EM607 - Vibrações de Sistemas Mecânicos</td>\n",
       "      <td>[0.375, 0.59375, 0.84375]</td>\n",
       "      <td>[0.5362903225806452, 0.7620967741935485, 0.987...</td>\n",
       "      <td>[0.4326923076923077, 0.6634615384615385, 0.894...</td>\n",
       "    </tr>\n",
       "    <tr>\n",
       "      <th>3</th>\n",
       "      <td>2593</td>\n",
       "      <td>ES601 - Análise Linear de Sistemas</td>\n",
       "      <td>[0.3333333333333333, 0.5, 0.75]</td>\n",
       "      <td>[0.3763440860215054, 0.6021505376344086, 0.827...</td>\n",
       "      <td>[0.23076923076923078, 0.46153846153846156, 0.6...</td>\n",
       "    </tr>\n",
       "    <tr>\n",
       "      <th>4</th>\n",
       "      <td>2596</td>\n",
       "      <td>ES626 - Modelagem de Dispositivos Eletromecânicos</td>\n",
       "      <td>[0.4375, 0.625, 0.875]</td>\n",
       "      <td>[0.3951612903225807, 0.5645161290322581, 0.790...</td>\n",
       "      <td>[0.3461538461538462, 0.46153846153846156, 0.69...</td>\n",
       "    </tr>\n",
       "    <tr>\n",
       "      <th>5</th>\n",
       "      <td>2605</td>\n",
       "      <td>ES710 - Controle de Sistemas Mecânicos</td>\n",
       "      <td>[0.39285714285714285, 0.6071428571428571, 0.85...</td>\n",
       "      <td>[0.5483870967741936, 0.7741935483870969, 1.0]</td>\n",
       "      <td>[0.5274725274725275, 0.7582417582417582, 0.989...</td>\n",
       "    </tr>\n",
       "    <tr>\n",
       "      <th>6</th>\n",
       "      <td>2612</td>\n",
       "      <td>ES728 - Controle Avançado de Sistemas</td>\n",
       "      <td>[0.3125, 0.4375, 0.6875]</td>\n",
       "      <td>[0.28225806451612906, 0.5080645161290324, 0.73...</td>\n",
       "      <td>[0.3461538461538462, 0.576923076923077, 0.8076...</td>\n",
       "    </tr>\n",
       "    <tr>\n",
       "      <th>7</th>\n",
       "      <td>2621</td>\n",
       "      <td>ES827 - Robótica Industrial</td>\n",
       "      <td>[0.5, 0.75, 1.0]</td>\n",
       "      <td>[0.4516129032258065, 0.6774193548387097, 0.903...</td>\n",
       "      <td>[0.2884615384615385, 0.40384615384615385, 0.63...</td>\n",
       "    </tr>\n",
       "    <tr>\n",
       "      <th>8</th>\n",
       "      <td>2622</td>\n",
       "      <td>ES828 - Laboratório de Controle de Sistemas</td>\n",
       "      <td>[0.41666666666666663, 0.6666666666666666, 0.91...</td>\n",
       "      <td>[0.5268817204301075, 0.7526881720430108, 0.978...</td>\n",
       "      <td>[0.5384615384615384, 0.7692307692307692, 1.0]</td>\n",
       "    </tr>\n",
       "  </tbody>\n",
       "</table>\n",
       "</div>"
      ],
      "text/plain": [
       "     ID                                        SubjectName  \\\n",
       "0  2093                                   EM306 - Estática   \n",
       "1  2099                                   EM404 - Dinâmica   \n",
       "2  2120            EM607 - Vibrações de Sistemas Mecânicos   \n",
       "3  2593                 ES601 - Análise Linear de Sistemas   \n",
       "4  2596  ES626 - Modelagem de Dispositivos Eletromecânicos   \n",
       "5  2605             ES710 - Controle de Sistemas Mecânicos   \n",
       "6  2612              ES728 - Controle Avançado de Sistemas   \n",
       "7  2621                        ES827 - Robótica Industrial   \n",
       "8  2622        ES828 - Laboratório de Controle de Sistemas   \n",
       "\n",
       "                                      Easiness Score  \\\n",
       "0  [0.381578947368421, 0.6052631578947368, 0.8552...   \n",
       "1  [0.2727272727272727, 0.5227272727272727, 0.772...   \n",
       "2                          [0.375, 0.59375, 0.84375]   \n",
       "3                    [0.3333333333333333, 0.5, 0.75]   \n",
       "4                             [0.4375, 0.625, 0.875]   \n",
       "5  [0.39285714285714285, 0.6071428571428571, 0.85...   \n",
       "6                           [0.3125, 0.4375, 0.6875]   \n",
       "7                                   [0.5, 0.75, 1.0]   \n",
       "8  [0.41666666666666663, 0.6666666666666666, 0.91...   \n",
       "\n",
       "                                     Coherence Score  \\\n",
       "0  [0.499151103565365, 0.7249575551782683, 0.9507...   \n",
       "1  [0.49266862170087977, 0.7184750733137831, 0.94...   \n",
       "2  [0.5362903225806452, 0.7620967741935485, 0.987...   \n",
       "3  [0.3763440860215054, 0.6021505376344086, 0.827...   \n",
       "4  [0.3951612903225807, 0.5645161290322581, 0.790...   \n",
       "5      [0.5483870967741936, 0.7741935483870969, 1.0]   \n",
       "6  [0.28225806451612906, 0.5080645161290324, 0.73...   \n",
       "7  [0.4516129032258065, 0.6774193548387097, 0.903...   \n",
       "8  [0.5268817204301075, 0.7526881720430108, 0.978...   \n",
       "\n",
       "                                   Explanation Score  \n",
       "0  [0.46153846153846156, 0.6923076923076924, 0.92...  \n",
       "1  [0.41958041958041964, 0.6293706293706295, 0.86...  \n",
       "2  [0.4326923076923077, 0.6634615384615385, 0.894...  \n",
       "3  [0.23076923076923078, 0.46153846153846156, 0.6...  \n",
       "4  [0.3461538461538462, 0.46153846153846156, 0.69...  \n",
       "5  [0.5274725274725275, 0.7582417582417582, 0.989...  \n",
       "6  [0.3461538461538462, 0.576923076923077, 0.8076...  \n",
       "7  [0.2884615384615385, 0.40384615384615385, 0.63...  \n",
       "8      [0.5384615384615384, 0.7692307692307692, 1.0]  "
      ]
     },
     "execution_count": 76,
     "metadata": {},
     "output_type": "execute_result"
    }
   ],
   "source": [
    "fuzzy_control_subtree_df"
   ]
  }
 ],
 "metadata": {
  "kernelspec": {
   "display_name": "Python 3",
   "language": "python",
   "name": "python3"
  },
  "language_info": {
   "codemirror_mode": {
    "name": "ipython",
    "version": 3
   },
   "file_extension": ".py",
   "mimetype": "text/x-python",
   "name": "python",
   "nbconvert_exporter": "python",
   "pygments_lexer": "ipython3",
   "version": "3.10.12"
  }
 },
 "nbformat": 4,
 "nbformat_minor": 2
}
